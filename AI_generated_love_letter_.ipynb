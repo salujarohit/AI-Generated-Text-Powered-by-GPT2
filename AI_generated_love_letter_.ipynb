{
  "nbformat": 4,
  "nbformat_minor": 0,
  "metadata": {
    "colab": {
      "name": "AI generated-love_letter .ipynb",
      "provenance": [],
      "collapsed_sections": [],
      "toc_visible": true,
      "machine_shape": "hm",
      "authorship_tag": "ABX9TyMecB4RoDGvslX9eCZENu7h",
      "include_colab_link": true
    },
    "kernelspec": {
      "name": "python3",
      "display_name": "Python 3"
    },
    "accelerator": "GPU"
  },
  "cells": [
    {
      "cell_type": "markdown",
      "metadata": {
        "id": "view-in-github",
        "colab_type": "text"
      },
      "source": [
        "<a href=\"https://colab.research.google.com/github/salujarohit/AI-Generated-Text-Powered-by-GPT2/blob/main/AI_generated_love_letter_.ipynb\" target=\"_parent\"><img src=\"https://colab.research.google.com/assets/colab-badge.svg\" alt=\"Open In Colab\"/></a>"
      ]
    },
    {
      "cell_type": "code",
      "metadata": {
        "colab": {
          "base_uri": "https://localhost:8080/"
        },
        "id": "tl_v7dJQyt34",
        "outputId": "165c3c1c-5d08-4956-ea37-3f9409cf9512"
      },
      "source": [
        "!pip3 install gpt-2-simple\n",
        "!pip install tensorflow==1.14\n",
        "!pip install tensorflow-gpu==1.14.0"
      ],
      "execution_count": 11,
      "outputs": [
        {
          "output_type": "stream",
          "text": [
            "Requirement already satisfied: gpt-2-simple in /usr/local/lib/python3.6/dist-packages (0.7.1)\n",
            "Requirement already satisfied: numpy in /usr/local/lib/python3.6/dist-packages (from gpt-2-simple) (1.18.5)\n",
            "Requirement already satisfied: regex in /usr/local/lib/python3.6/dist-packages (from gpt-2-simple) (2019.12.20)\n",
            "Requirement already satisfied: tqdm in /usr/local/lib/python3.6/dist-packages (from gpt-2-simple) (4.41.1)\n",
            "Requirement already satisfied: toposort in /usr/local/lib/python3.6/dist-packages (from gpt-2-simple) (1.5)\n",
            "Requirement already satisfied: requests in /usr/local/lib/python3.6/dist-packages (from gpt-2-simple) (2.23.0)\n",
            "Requirement already satisfied: chardet<4,>=3.0.2 in /usr/local/lib/python3.6/dist-packages (from requests->gpt-2-simple) (3.0.4)\n",
            "Requirement already satisfied: certifi>=2017.4.17 in /usr/local/lib/python3.6/dist-packages (from requests->gpt-2-simple) (2020.11.8)\n",
            "Requirement already satisfied: urllib3!=1.25.0,!=1.25.1,<1.26,>=1.21.1 in /usr/local/lib/python3.6/dist-packages (from requests->gpt-2-simple) (1.24.3)\n",
            "Requirement already satisfied: idna<3,>=2.5 in /usr/local/lib/python3.6/dist-packages (from requests->gpt-2-simple) (2.10)\n",
            "Requirement already satisfied: tensorflow==1.14 in /usr/local/lib/python3.6/dist-packages (1.14.0)\n",
            "Requirement already satisfied: protobuf>=3.6.1 in /usr/local/lib/python3.6/dist-packages (from tensorflow==1.14) (3.12.4)\n",
            "Requirement already satisfied: keras-applications>=1.0.6 in /usr/local/lib/python3.6/dist-packages (from tensorflow==1.14) (1.0.8)\n",
            "Requirement already satisfied: tensorboard<1.15.0,>=1.14.0 in /usr/local/lib/python3.6/dist-packages (from tensorflow==1.14) (1.14.0)\n",
            "Requirement already satisfied: keras-preprocessing>=1.0.5 in /usr/local/lib/python3.6/dist-packages (from tensorflow==1.14) (1.1.2)\n",
            "Requirement already satisfied: absl-py>=0.7.0 in /usr/local/lib/python3.6/dist-packages (from tensorflow==1.14) (0.10.0)\n",
            "Requirement already satisfied: gast>=0.2.0 in /usr/local/lib/python3.6/dist-packages (from tensorflow==1.14) (0.3.3)\n",
            "Requirement already satisfied: google-pasta>=0.1.6 in /usr/local/lib/python3.6/dist-packages (from tensorflow==1.14) (0.2.0)\n",
            "Requirement already satisfied: numpy<2.0,>=1.14.5 in /usr/local/lib/python3.6/dist-packages (from tensorflow==1.14) (1.18.5)\n",
            "Requirement already satisfied: wheel>=0.26 in /usr/local/lib/python3.6/dist-packages (from tensorflow==1.14) (0.35.1)\n",
            "Requirement already satisfied: wrapt>=1.11.1 in /usr/local/lib/python3.6/dist-packages (from tensorflow==1.14) (1.12.1)\n",
            "Requirement already satisfied: tensorflow-estimator<1.15.0rc0,>=1.14.0rc0 in /usr/local/lib/python3.6/dist-packages (from tensorflow==1.14) (1.14.0)\n",
            "Requirement already satisfied: termcolor>=1.1.0 in /usr/local/lib/python3.6/dist-packages (from tensorflow==1.14) (1.1.0)\n",
            "Requirement already satisfied: grpcio>=1.8.6 in /usr/local/lib/python3.6/dist-packages (from tensorflow==1.14) (1.33.2)\n",
            "Requirement already satisfied: six>=1.10.0 in /usr/local/lib/python3.6/dist-packages (from tensorflow==1.14) (1.15.0)\n",
            "Requirement already satisfied: astor>=0.6.0 in /usr/local/lib/python3.6/dist-packages (from tensorflow==1.14) (0.8.1)\n",
            "Requirement already satisfied: setuptools in /usr/local/lib/python3.6/dist-packages (from protobuf>=3.6.1->tensorflow==1.14) (50.3.2)\n",
            "Requirement already satisfied: h5py in /usr/local/lib/python3.6/dist-packages (from keras-applications>=1.0.6->tensorflow==1.14) (2.10.0)\n",
            "Requirement already satisfied: markdown>=2.6.8 in /usr/local/lib/python3.6/dist-packages (from tensorboard<1.15.0,>=1.14.0->tensorflow==1.14) (3.3.3)\n",
            "Requirement already satisfied: werkzeug>=0.11.15 in /usr/local/lib/python3.6/dist-packages (from tensorboard<1.15.0,>=1.14.0->tensorflow==1.14) (1.0.1)\n",
            "Requirement already satisfied: importlib-metadata; python_version < \"3.8\" in /usr/local/lib/python3.6/dist-packages (from markdown>=2.6.8->tensorboard<1.15.0,>=1.14.0->tensorflow==1.14) (2.0.0)\n",
            "Requirement already satisfied: zipp>=0.5 in /usr/local/lib/python3.6/dist-packages (from importlib-metadata; python_version < \"3.8\"->markdown>=2.6.8->tensorboard<1.15.0,>=1.14.0->tensorflow==1.14) (3.4.0)\n",
            "Requirement already satisfied: tensorflow-gpu==1.14.0 in /usr/local/lib/python3.6/dist-packages (1.14.0)\n",
            "Requirement already satisfied: wrapt>=1.11.1 in /usr/local/lib/python3.6/dist-packages (from tensorflow-gpu==1.14.0) (1.12.1)\n",
            "Requirement already satisfied: gast>=0.2.0 in /usr/local/lib/python3.6/dist-packages (from tensorflow-gpu==1.14.0) (0.3.3)\n",
            "Requirement already satisfied: protobuf>=3.6.1 in /usr/local/lib/python3.6/dist-packages (from tensorflow-gpu==1.14.0) (3.12.4)\n",
            "Requirement already satisfied: termcolor>=1.1.0 in /usr/local/lib/python3.6/dist-packages (from tensorflow-gpu==1.14.0) (1.1.0)\n",
            "Requirement already satisfied: six>=1.10.0 in /usr/local/lib/python3.6/dist-packages (from tensorflow-gpu==1.14.0) (1.15.0)\n",
            "Requirement already satisfied: astor>=0.6.0 in /usr/local/lib/python3.6/dist-packages (from tensorflow-gpu==1.14.0) (0.8.1)\n",
            "Requirement already satisfied: google-pasta>=0.1.6 in /usr/local/lib/python3.6/dist-packages (from tensorflow-gpu==1.14.0) (0.2.0)\n",
            "Requirement already satisfied: keras-applications>=1.0.6 in /usr/local/lib/python3.6/dist-packages (from tensorflow-gpu==1.14.0) (1.0.8)\n",
            "Requirement already satisfied: grpcio>=1.8.6 in /usr/local/lib/python3.6/dist-packages (from tensorflow-gpu==1.14.0) (1.33.2)\n",
            "Requirement already satisfied: wheel>=0.26 in /usr/local/lib/python3.6/dist-packages (from tensorflow-gpu==1.14.0) (0.35.1)\n",
            "Requirement already satisfied: keras-preprocessing>=1.0.5 in /usr/local/lib/python3.6/dist-packages (from tensorflow-gpu==1.14.0) (1.1.2)\n",
            "Requirement already satisfied: tensorflow-estimator<1.15.0rc0,>=1.14.0rc0 in /usr/local/lib/python3.6/dist-packages (from tensorflow-gpu==1.14.0) (1.14.0)\n",
            "Requirement already satisfied: numpy<2.0,>=1.14.5 in /usr/local/lib/python3.6/dist-packages (from tensorflow-gpu==1.14.0) (1.18.5)\n",
            "Requirement already satisfied: absl-py>=0.7.0 in /usr/local/lib/python3.6/dist-packages (from tensorflow-gpu==1.14.0) (0.10.0)\n",
            "Requirement already satisfied: tensorboard<1.15.0,>=1.14.0 in /usr/local/lib/python3.6/dist-packages (from tensorflow-gpu==1.14.0) (1.14.0)\n",
            "Requirement already satisfied: setuptools in /usr/local/lib/python3.6/dist-packages (from protobuf>=3.6.1->tensorflow-gpu==1.14.0) (50.3.2)\n",
            "Requirement already satisfied: h5py in /usr/local/lib/python3.6/dist-packages (from keras-applications>=1.0.6->tensorflow-gpu==1.14.0) (2.10.0)\n",
            "Requirement already satisfied: werkzeug>=0.11.15 in /usr/local/lib/python3.6/dist-packages (from tensorboard<1.15.0,>=1.14.0->tensorflow-gpu==1.14.0) (1.0.1)\n",
            "Requirement already satisfied: markdown>=2.6.8 in /usr/local/lib/python3.6/dist-packages (from tensorboard<1.15.0,>=1.14.0->tensorflow-gpu==1.14.0) (3.3.3)\n",
            "Requirement already satisfied: importlib-metadata; python_version < \"3.8\" in /usr/local/lib/python3.6/dist-packages (from markdown>=2.6.8->tensorboard<1.15.0,>=1.14.0->tensorflow-gpu==1.14.0) (2.0.0)\n",
            "Requirement already satisfied: zipp>=0.5 in /usr/local/lib/python3.6/dist-packages (from importlib-metadata; python_version < \"3.8\"->markdown>=2.6.8->tensorboard<1.15.0,>=1.14.0->tensorflow-gpu==1.14.0) (3.4.0)\n"
          ],
          "name": "stdout"
        }
      ]
    },
    {
      "cell_type": "code",
      "metadata": {
        "colab": {
          "base_uri": "https://localhost:8080/"
        },
        "id": "gSBkS3xS2N0W",
        "outputId": "944151a2-873f-4af0-d5c8-062ce2b61a27"
      },
      "source": [
        "!nvidia-smi #checking GPU allocation "
      ],
      "execution_count": 12,
      "outputs": [
        {
          "output_type": "stream",
          "text": [
            "Tue Dec  1 06:35:52 2020       \n",
            "+-----------------------------------------------------------------------------+\n",
            "| NVIDIA-SMI 455.38       Driver Version: 418.67       CUDA Version: 10.1     |\n",
            "|-------------------------------+----------------------+----------------------+\n",
            "| GPU  Name        Persistence-M| Bus-Id        Disp.A | Volatile Uncorr. ECC |\n",
            "| Fan  Temp  Perf  Pwr:Usage/Cap|         Memory-Usage | GPU-Util  Compute M. |\n",
            "|                               |                      |               MIG M. |\n",
            "|===============================+======================+======================|\n",
            "|   0  Tesla P100-PCIE...  Off  | 00000000:00:04.0 Off |                    0 |\n",
            "| N/A   49C    P0    36W / 250W |  15599MiB / 16280MiB |      0%      Default |\n",
            "|                               |                      |                 ERR! |\n",
            "+-------------------------------+----------------------+----------------------+\n",
            "                                                                               \n",
            "+-----------------------------------------------------------------------------+\n",
            "| Processes:                                                                  |\n",
            "|  GPU   GI   CI        PID   Type   Process name                  GPU Memory |\n",
            "|        ID   ID                                                   Usage      |\n",
            "|=============================================================================|\n",
            "|  No running processes found                                                 |\n",
            "+-----------------------------------------------------------------------------+\n"
          ],
          "name": "stdout"
        }
      ]
    },
    {
      "cell_type": "code",
      "metadata": {
        "id": "fG7NvnIm2QG_"
      },
      "source": [
        "#imports\n",
        "import gpt_2_simple as gpt2\n",
        "import os \n",
        "import requests\n",
        "import warnings\n",
        "\n",
        "warnings.filterwarnings(\"ignore\")"
      ],
      "execution_count": 2,
      "outputs": []
    },
    {
      "cell_type": "markdown",
      "metadata": {
        "id": "j3axumBj2VPY"
      },
      "source": [
        "# Downloading GPT2 - pretained model"
      ]
    },
    {
      "cell_type": "code",
      "metadata": {
        "id": "jlbTotNZ2SuP"
      },
      "source": [
        "model_name = \"355M\" #select model variation\n",
        "if not os.path.isdir(os.path.join(\"models\", model_name)):\n",
        "\tprint(f\"Downloading {model_name} model...\")\n",
        "\tgpt2.download_gpt2(model_name=model_name)"
      ],
      "execution_count": 3,
      "outputs": []
    },
    {
      "cell_type": "markdown",
      "metadata": {
        "id": "W0_pMH2L3FNh"
      },
      "source": [
        "## Finetuning GPT-2"
      ]
    },
    {
      "cell_type": "code",
      "metadata": {
        "colab": {
          "base_uri": "https://localhost:8080/"
        },
        "id": "Xb_q0wHu2sTd",
        "outputId": "8c537b59-2c41-44ca-a5d6-d40756ce074a"
      },
      "source": [
        "warnings.filterwarnings(\"ignore\")\n",
        "\n",
        "finetuning_data_file = \"love_letters.txt\"\n",
        "\n",
        "sess = gpt2.start_tf_sess()\n",
        "\n",
        "gpt2.finetune(sess,\n",
        "              dataset=finetuning_data_file,\n",
        "              model_name='355M',\n",
        "              steps=500,\n",
        "              restore_from='fresh',\n",
        "              run_name='run2-ll',\n",
        "              print_every=10,\n",
        "              sample_every=200,\n",
        "              save_every=500\n",
        "              )\n",
        "\n",
        "#gpt2.generate(sess)"
      ],
      "execution_count": 4,
      "outputs": [
        {
          "output_type": "stream",
          "text": [
            "WARNING:tensorflow:From /usr/local/lib/python3.6/dist-packages/gpt_2_simple/src/sample.py:17: add_dispatch_support.<locals>.wrapper (from tensorflow.python.ops.array_ops) is deprecated and will be removed in a future version.\n",
            "Instructions for updating:\n",
            "Use tf.where in 2.0, which has the same broadcast rule as np.where\n",
            "Loading checkpoint models/355M/model.ckpt\n",
            "WARNING:tensorflow:From /usr/local/lib/python3.6/dist-packages/tensorflow/python/training/saver.py:1276: checkpoint_exists (from tensorflow.python.training.checkpoint_management) is deprecated and will be removed in a future version.\n",
            "Instructions for updating:\n",
            "Use standard file APIs to check for files with this prefix.\n",
            "INFO:tensorflow:Restoring parameters from models/355M/model.ckpt\n"
          ],
          "name": "stdout"
        },
        {
          "output_type": "stream",
          "text": [
            "100%|██████████| 1/1 [00:00<00:00, 1243.86it/s]"
          ],
          "name": "stderr"
        },
        {
          "output_type": "stream",
          "text": [
            "Loading dataset...\n",
            "dataset has 5703 tokens\n",
            "Training...\n"
          ],
          "name": "stdout"
        },
        {
          "output_type": "stream",
          "text": [
            "\n"
          ],
          "name": "stderr"
        },
        {
          "output_type": "stream",
          "text": [
            "[10 | 18.72] loss=2.08 avg=2.08\n",
            "[20 | 27.34] loss=2.76 avg=2.42\n",
            "[30 | 35.96] loss=1.08 avg=1.97\n",
            "[40 | 44.58] loss=0.15 avg=1.51\n",
            "[50 | 53.20] loss=0.06 avg=1.21\n",
            "[60 | 61.83] loss=0.12 avg=1.03\n",
            "[70 | 70.45] loss=0.05 avg=0.88\n",
            "[80 | 79.06] loss=0.05 avg=0.77\n",
            "[90 | 87.68] loss=0.04 avg=0.69\n",
            "[100 | 96.31] loss=0.06 avg=0.62\n",
            "[110 | 104.93] loss=0.04 avg=0.57\n",
            "[120 | 113.55] loss=0.04 avg=0.52\n",
            "[130 | 122.17] loss=0.04 avg=0.48\n",
            "[140 | 130.78] loss=0.03 avg=0.45\n",
            "[150 | 139.40] loss=0.02 avg=0.42\n",
            "[160 | 148.03] loss=0.03 avg=0.39\n",
            "[170 | 156.64] loss=0.04 avg=0.37\n",
            "[180 | 165.27] loss=0.07 avg=0.35\n",
            "[190 | 173.88] loss=0.02 avg=0.33\n",
            "[200 | 182.49] loss=0.02 avg=0.32\n",
            "======== SAMPLE 1 ========\n",
            "\n",
            "I'm so excited spending my whole life with someone that I truly love and care about, spending each special day with all the love in our heart of hearts. I'm so excited spending my whole life with someone that I truly love and care about, spending each special day with all the love in our heart of hearts.\n",
            "I opened my eyes wide with a start when I saw you in my dream. I fell to my knees and worshiped the sun and the rainbows for the rest of my life. Your soft, sweet voice singing to me gently; your radiant smile warming my heart; your exquisite presence mesmerizing me completely.\n",
            "I also remembered the day we started dating. It was pure splendor, elation and happiness. I recalled every single detail of that day as if I was reliving it all over again. How truly blessed I am to have found my destiny in you! I could not imagine a life without you because you mean everything to me. My love for you keeps on going as strong as ever and I know that I will always love you until the day I depart this world.\n",
            "I turned around to kiss you, only to find an empty pillow there. That's when I realized that I fell asleep and kept thinking, dreaming about you. I smiled.  Soon we will be together again.\n",
            "\n",
            "I love you so much!<|endoftext|>\n",
            "\n",
            "<|startoftext|>To my one and only love,\n",
            "\n",
            "I’ve been waiting for you for so long, and now that you are here with me, I will never ever let you go. We both know that life is not always fair. We know that there will come a time when we have to face trials in our relationship, but we will overcome because our love will see us through. They say promises are made to broken, but I say promises is meant to be for as long as we believe in the power of love... I know in my heart you believe it too. I am so thankful and so very happy that I have found my destiny in you.\n",
            "You are my happiness, a very special blessing God has given to me. I’m so excited spending my whole life with someone that I truly love and care about, spending each special day with all the love in our heart of hearts. I love you so much and will always love until forever. That's a promise that I’ll surely going to keep forever in my heart.<|endoftext|>\n",
            "\n",
            "<|startoftext|>Dear Bob,\n",
            "I love you a lot! These words are not enough to let you know the immense feelings that I have for you in my heart. Ever since I have met you, it seems that I have experienced the moments of paradise with you. You are that one man who has brought back all the happiness and cheer of my life which I was searching till now. In your company, I feel so blessed and happy that I wish to spend each and every moment with you.\n",
            "Bob, you are really a dream come true for me. Your gentle touch makes me feel so numb, the care that you show makes me feel so complete and the emotions that are seen in your eyes are enough for me to know that you value me. I feel lucky and proud when I hold your hand because it in your presence that I feel so safe and protected.\n",
            "No words might be enough to tell you the ocean of love that I have for you but please know that I miss you every second. My heart beats for you, I really love you.\n",
            "Your’s only,\n",
            "Martha<|endoftext|>\n",
            "\n",
            "<|startoftext|>My one Love,\n",
            "I cannot tell you the compassion I have felt for all your sufferings for these weeks past that you have had so many drawbacks. Nor the gratitude I have felt for the cheerful & affectionate looks you have given me when I know you have been miserably uncomfortable.\n",
            "My heart has often been too full to speak or take any notice I am sure you know I love you well enough to believe that I mind your sufferings nearly as much as I should my own & I find the only relief to my own mind is to take it as from God’s hand, & to try to believe that all suffering & illness is meant to help us to exalt our minds & to look forward with hope to a future state. When I see your patience, deep compassion for others self-command & above all gratitude for the smallest thing done to help you I cannot help longing that these precious feelings should be offered to Heaven for the sake of your daily happiness. But I find it difficult enough in my own case. I often think of the words “Thou shalt keep him in perfect peace whose mind is stayed on thee.” It is feeling & not reasoning that drives one to prayer. I feel presumptuous in writing thus to you.\n",
            "I feel in my inmost heart your\n",
            "\n",
            "[210 | 215.39] loss=0.02 avg=0.30\n",
            "[220 | 224.01] loss=0.03 avg=0.29\n",
            "[230 | 232.66] loss=0.02 avg=0.27\n",
            "[240 | 241.30] loss=0.04 avg=0.26\n",
            "[250 | 249.92] loss=0.03 avg=0.25\n",
            "[260 | 258.55] loss=0.02 avg=0.24\n",
            "[270 | 267.18] loss=0.01 avg=0.23\n",
            "[280 | 275.81] loss=0.02 avg=0.22\n",
            "[290 | 284.43] loss=0.01 avg=0.22\n",
            "[300 | 293.04] loss=0.01 avg=0.21\n",
            "[310 | 301.66] loss=0.03 avg=0.20\n",
            "[320 | 310.28] loss=0.06 avg=0.20\n",
            "[330 | 318.90] loss=0.02 avg=0.19\n",
            "[340 | 327.52] loss=0.07 avg=0.19\n",
            "[350 | 336.14] loss=0.03 avg=0.18\n",
            "[360 | 344.75] loss=0.02 avg=0.17\n",
            "[370 | 353.37] loss=0.02 avg=0.17\n",
            "[380 | 361.99] loss=0.01 avg=0.16\n",
            "[390 | 370.61] loss=0.02 avg=0.16\n",
            "[400 | 379.23] loss=0.01 avg=0.16\n",
            "======== SAMPLE 1 ========\n",
            " made beautiful with you in every way.\n",
            "No words could ever express the glee that I'm experiencing right now. I couldn't even start to fathom how blessed I am to have you in this life. In any other lifetime, I'd still choose to fall in love with you. I thank God for bringing you to my life. You gave a new meaning to my existence and I could not imagine a life without you in it. You and I were made to be together, forever. Loving you was the most special thing that ever happened to me. You have a very special place in my heart and no one could ever replace that, be it in this lifetime, or any other lifetime. When I'm with you, everything feels so right and I feel really blessed. I cherish every single day that we spend together.\n",
            "\n",
            "\n",
            "\n",
            "Much Love,<|endoftext|>\n",
            "\n",
            "<|startoftext|>My dear,\n",
            "I had a long day yesterday. A lot of work, bad traffic and crowds of people everywhere... I was really exhausted by the time I reached the hotel.  I sat down on the bed and wanted to turn on the TV to kill some more time before sleeping, but my mind started wandering.  Then everything just focused clearly. You appeared in front of me. Your angelic presence instantly calmed me down, my tiredness evaporated and my spirits soared turning glum into bliss. Yes, my darling, you do have that wonderful effect on me.\n",
            "I remembered our first date when everything started. Like a burst of sunshine upon a desolate landscape, like the torrential rain in the dessert, like the first light after months of darkness, that date changed me forever. For better, for much better. It was love at first date. I couldn't think of anything more important than to see you again, to be with you again. Your soft, sweet voice singing to me gently; your radiant smile warming my heart; your exquisite presence mesmerizing me completely.\n",
            "I also remembered the day we got married. It was pure splendor, elation and happiness. I recalled every single detail of that day as if I was reliving it all over again. How truly blessed I am to have you walk the roads of life with me! I could not imagine my life without you because you mean everything to me. My love for you keeps on going as strong as ever and I know that I will always love you until the day I depart this world.\n",
            "I turned around to kiss you, only to find an empty pillow there. That's when I realized that I fell asleep and kept thinking, dreaming about you. I smiled.  Soon we will be together again.\n",
            "\n",
            "I love you so much!<|endoftext|>\n",
            "\n",
            "<|startoftext|>To my angel:\n",
            "\n",
            "I want you here with me, if only for one night. I live day to day thinking about you.\n",
            "\n",
            "Why do I catch my breath whenever you speak? Every time I think of you I can feel the butterflies fluttering inside me. My heart breaks just to be around you. I love the way you talk, I just wish you could hear me too.\n",
            "\n",
            "If you want me as your lover, then let it go. I am used to relationships ending up not lasting very long. I know how bitter and judgmental some people can be. I love you. I want you here with me. If only for one night, then maybe I'll feel better.\n",
            "\n",
            "If it doesn't work out, then at least I will know that you do love me. If only for one night, then maybe I'll feel better.\n",
            "\n",
            "If it doesn't work out, then at least I will know that you do love me. If only for one night, then maybe I'll feel better.\n",
            "\n",
            "If it doesn't work out, then at least I will know that you do love me. If only for one night, then maybe I'll feel better.\n",
            "\n",
            "If it doesn't work out, then at least I will know that you do love me. If only for one night, then maybe I'll feel better.\n",
            "\n",
            "If it doesn't work out, then at least I will know that you do love me. If only for one night, then maybe I'll feel better.\n",
            "\n",
            "If it doesn't work out, then at least I will know that you do love me. If only for one night, then maybe I'll feel better.\n",
            "\n",
            "If it doesn't work out, then at least I will know that you do love me. If only for one night, then maybe I'll feel better.\n",
            "\n",
            "If it doesn't work out, then at least I will know that you do love me. If only for one night, then maybe I'll feel better.\n",
            "\n",
            "If it doesn't work out, then at least I will know that you do love me. If only for one night,\n",
            "\n",
            "[410 | 409.02] loss=0.02 avg=0.15\n",
            "[420 | 417.64] loss=0.03 avg=0.15\n",
            "[430 | 426.26] loss=0.01 avg=0.14\n",
            "[440 | 434.89] loss=0.01 avg=0.14\n",
            "[450 | 443.51] loss=0.01 avg=0.14\n",
            "[460 | 452.13] loss=0.02 avg=0.13\n",
            "[470 | 460.74] loss=0.01 avg=0.13\n",
            "[480 | 469.37] loss=0.02 avg=0.13\n",
            "[490 | 477.99] loss=0.03 avg=0.13\n",
            "[500 | 486.60] loss=0.01 avg=0.12\n",
            "Saving checkpoint/run2-ll/model-500\n"
          ],
          "name": "stdout"
        }
      ]
    },
    {
      "cell_type": "code",
      "metadata": {
        "colab": {
          "base_uri": "https://localhost:8080/"
        },
        "id": "E6ayYPkY3EIA",
        "outputId": "7e33130a-244c-47fd-a7a1-5c4d8ac6f6f2"
      },
      "source": [
        "gpt2.mount_gdrive()"
      ],
      "execution_count": 5,
      "outputs": [
        {
          "output_type": "stream",
          "text": [
            "Drive already mounted at /content/drive; to attempt to forcibly remount, call drive.mount(\"/content/drive\", force_remount=True).\n"
          ],
          "name": "stdout"
        }
      ]
    },
    {
      "cell_type": "code",
      "metadata": {
        "id": "xxFrl0fO5_Ib"
      },
      "source": [
        "gpt2.copy_checkpoint_to_gdrive(run_name='run2-ll')#copying checkpoint to gogole drive"
      ],
      "execution_count": 6,
      "outputs": []
    },
    {
      "cell_type": "code",
      "metadata": {
        "id": "f0PoWE-s6sdt"
      },
      "source": [
        "gpt2.copy_checkpoint_from_gdrive(run_name='run2-ll')#loading model from google drive"
      ],
      "execution_count": 4,
      "outputs": []
    },
    {
      "cell_type": "code",
      "metadata": {
        "colab": {
          "base_uri": "https://localhost:8080/"
        },
        "id": "hiXleGUT6wti",
        "outputId": "99950717-4e4e-4b0c-eb21-5b0231c8f69b"
      },
      "source": [
        "sess = gpt2.start_tf_sess()\n",
        "gpt2.load_gpt2(sess, run_name='run2-ll')"
      ],
      "execution_count": 5,
      "outputs": [
        {
          "output_type": "stream",
          "text": [
            "Loading checkpoint checkpoint/run2-ll/model-500\n",
            "WARNING:tensorflow:From /usr/local/lib/python3.6/dist-packages/tensorflow/python/training/saver.py:1276: checkpoint_exists (from tensorflow.python.training.checkpoint_management) is deprecated and will be removed in a future version.\n",
            "Instructions for updating:\n",
            "Use standard file APIs to check for files with this prefix.\n",
            "INFO:tensorflow:Restoring parameters from checkpoint/run2-ll/model-500\n"
          ],
          "name": "stdout"
        }
      ]
    },
    {
      "cell_type": "code",
      "metadata": {
        "colab": {
          "base_uri": "https://localhost:8080/"
        },
        "id": "IZjwCE1l7csf",
        "outputId": "d6315e86-1a2f-4c24-844a-affae24ae01c"
      },
      "source": [
        "gpt2.generate(sess,\n",
        "              length=300,\n",
        "              temperature=1.0,\n",
        "              run_name='run2-ll',\n",
        "              prefix=\"<|startoftext|>\",\n",
        "              truncate=\"<|endoftext|>\",\n",
        "              include_prefix=False,\n",
        "              nsamples=20,\n",
        "              batch_size=20)"
      ],
      "execution_count": 8,
      "outputs": [
        {
          "output_type": "stream",
          "text": [
            "<|startoftext|>Hello,\n",
            "\n",
            "Know that wherever you are and wherever you go that you'll always be in my thoughts. Know that I am with you always.\n",
            "\n",
            "Each day I look at your_________(photo or online profile) and I will meditate on strengthening our connection. Each minute that I am standing alone, standing in line or strolling by myself in the park, I will recite your name to the rhythm of the beating of my heart. Your name will be my mantra and we will be tantric, even though you are far away.\n",
            "\n",
            "Each minute that I am standing alone, standing in line or strolling by alone in the park, I will recite your name to the rhythm of the beating of my heart. Your name will be my mantra and we will be tantric, even though you are far away. Every day that I am not standing by you, I will recite your name to strengthen our connection. Each minute that I am not around, I will still sit down and meditate on strengthening our connection. Each minute that I am not thinking, I will still just be thinking about you.\n",
            "\n",
            "Every night, when I close my eyes, I will lie down and picture your face. I will imagine your arms around me and our bodies entwined in a tight love embrace. Then I will pray to the heavens above, that every day, you receive blessings and grace.\n",
            "\n",
            "Although I may feel lost and alone inside, I will greet every stranger I\n",
            "====================\n",
            "My Love Shiny,\n",
            "It is important for me to express to you how much you really mean to me. Though we are hundred miles apart but it is not a matter because you are always in my heart. I know it is difficult for you, and also for me, to be separated for a long time. Life seems to be full of trials which test our inner strength and more our devotion and love for one another. True love is immeasurable and overcomes difficult circumstances. Our love has been assaulted many times, and I am convinced that it is true because the longer I am away from you, the greater is my desire to be with you again.\n",
            "I cherish any thought of you, and memory of you that rises from the depths of my heart. Until that moment arrives, I send my tender love to you, and my warm embrace.\n",
            "Love always,\n",
            "====================\n",
            "My Love Shiny,\n",
            "It is important for me to express to you how much you really mean to me. Though we are hundred miles apart but it is not a matter because you are always in my heart. I know it is difficult for you, and also for me, to be separated for a long time. Life seems to be full of trials which test our inner strength and more our devotion and love for one another. True love is immeasurable and overcomes difficult circumstances. Our love has been assaulted many times, and I am convinced that it is true because the longer I am away from you, the greater is my desire to be with you again.\n",
            "I cherish any thought of you, and memory of you that rises from the depths of my heart. Until that moment arrives, I send my tender love to you, and my warm embrace.\n",
            "Love always,\n",
            "====================\n",
            "My Love Shiny,\n",
            "It is important for me to express to you how much you really mean to me. Though we are hundred miles apart but it is not a matter because you are always in my heart. I know it is difficult for you, and also for me, to be separated for a long time. Life seems to be full of trials which test our inner strength and more our devotion and love for one another. True love is immeasurable and overcomes difficult circumstances. Our love has been assaulted many times, and I am convinced that it is true because the longer we wait for the day we are together again, the greater is my desire to be with you again.\n",
            "I cherish any thought of you, and memory of you that rises from the depths of my heart. Until that moment arrives, I send my tender love to you, and my warm embrace.\n",
            "Love always,\n",
            "====================\n",
            "<|startoftext|>Everyone who knows me has one thing in common. We are all human beings with our own unique set of challenges and struggles. We all know someone who has struggled with mental illness, addiction or abuse. We all know someone who has struggled with relationships or work. We all know someone who has struggled to find meaning and happiness in our world. We know someone who has struggled with depression or any other mental illness. We all know someone who has struggled with any kind of addiction. We all know someone who has struggled with any kind of fear. We all know someone who has struggled with any kind of doubt. We all know someone who has struggled with any kind of forseeable future. We know someone who has struggled with any kind of inattention. We all know someone who has struggled with any kind of fatigue. We all know someone who has struggled with any kind of sloth. We all know someone who has struggled with any kind of aches and pains. We all know someone who has struggled with any kind of sore throat. We all know someone who has struggled with any kind of aches and pains in the back. We all know someone who has struggled with any kind of sloth or snuff. We all know someone who has struggled with any kind of fatigue. We all know someone who has struggled with any kind of sloth or snuff. We all know someone who has struggled with any kind of inattention. We all know someone who has struggled with any kind of\n",
            "====================\n",
            "<|startoftext|>ย์้น้น้น้น้น้น้น้น้น้น้น้น้น้น้น้น้น้น้น\n",
            "\n",
            "</|startoftext|>Forgive me if I seem to be blushing. \n",
            "\n",
            "Thinking about you has caused me to flinch. \n",
            "\n",
            "My heart has been racing. \n",
            "\n",
            "My legs are shaking. \n",
            "\n",
            "My eyes are wide open.\n",
            "\n",
            "My chest is burning.\n",
            "\n",
            "My breath is thick.\n",
            "\n",
            "My eyes are drooping.\n",
            "\n",
            "My mind is a blank.\n",
            "\n",
            "My soul is exhausted.\n",
            "\n",
            "My eyes feel like they are bulging.\n",
            "\n",
            "My feet feel like they are trying to get up.\n",
            "\n",
            "My arms feel like they are trying to wrap around me.\n",
            "\n",
            "My legs feel like they are trying to stretch.\n",
            "\n",
            "My feet feel like they are trying to stretch out.\n",
            "\n",
            "My arms feel like they are trying to hold me.\n",
            "\n",
            "My legs feel like they are trying to hold me in.\n",
            "\n",
            "My arms feel like they are trying to hold me out.\n",
            "\n",
            "My arms feel like they are trying to feel my love for you.\n",
            "\n",
            "My\n",
            "====================\n",
            "<|startoftext|>WE, the undersigned, from time to time, desire some thing or other from you, and have always been sensible of your being ungrateful. While I am not always a rebel, I have never felt so strongly about you as I do now. You have been there for me for everything. You are my inspiration and the reason I get up for work every day.\n",
            "I always thought, though, that we should get along just fine if we are true believers in the Christian God. If he is really the lover of me he says he is, then I say yes. I am just glad that we are not really married yet. I used to believe that we should get married someday, but now I think, Maybe not yet, but when we are older and older and when we are older and older. We have still got a long way to go before we are truly \"in love.\"\n",
            "I wonder how much longer I will have to wait for that day. I feel really blessed right now. I hardly realize it, but I really feel lucky. I don't really consider myself a hick, but by god, do I really resent having to live my life in that way? My life has been full of trials and tribulations, and I have always believed that the more I am challenged, the greater is my desire to be of service to you. I am so thankful and so very happy that I have found my destiny in you.\n",
            "You are my happiness,\n",
            "====================\n",
            "My Love Shiny,\n",
            "It is important for me to say what to you. In any other relationship, I'd still choose to fall in love with you. I thank God for bringing you to my life. You gave a new meaning to my existence and I could not imagine a life without you in it. You and I were made to be together, forever. That is how much I love you. That is how much I wanted you in my life.\n",
            "\n",
            "I turned around to kiss you, only to find an empty pillow there. That's when I realized that I fell asleep and kept thinking, dreaming about you. I smiled.  Soon we will be together again.\n",
            "\n",
            "I love you so much!\n",
            "====================\n",
            "Philip,\n",
            "\n",
            "I have been waiting for you for so long, and now that you are here with me, I will never ever let you go. We both know that life is not always fair. We know that there will come a time when we have to face trials in our relationship, but we will overcome because our love will see us through. They say promises are made to broken, but I say promises is meant to be for as long as we believe in the power of love... I know in my heart you believe it too. I am so thankful and so very happy that I have found my destiny in you.\n",
            "You are my happiness, a very special blessing God has given to me. I’m so excited spending my whole life with someone that I truly love and care about, spending each special day with all the love in our heart of hearts. I love you so much and will always love until forever. That's a promise that I’ll surely going to keep forever in my heart.\n",
            "====================\n",
            "Hi,\n",
            "\n",
            "Know that wherever you are and wherever you go that you'll always be in my thoughts. Know that I am with you always.\n",
            "\n",
            "Each day I look at your_________(photo or online profile) and I will meditate on strengthening our connection. Each minute that I am standing alone, standing in line or strolling by myself in the park, I will recite your name to the rhythm of the beating of my heart. Your name will be my mantra and we will be tantric, even though you are far away.\n",
            "\n",
            "Every night, when I close my eyes, I will lie down and picture your face. I will imagine your arms around me and our bodies entwined in a tight love embrace. Then I will pray to the heavens above, that every day, you receive blessings and grace.\n",
            "\n",
            "Although I may feel lost and alone inside, I will greet every stranger I meet with the same smile I would give to you. I will treat them with the same kindness, compassion and understanding that you taught me to receive from you. This is one way I can maintain the memory of the magic that is you.\n",
            "Know that you are with you yesterday and tomorrow and every day for the rest of your life. Whether near or far, I am with you - always.\n",
            "\n",
            "Love,\n",
            "====================\n",
            "My Love Shiny,\n",
            "It is important for me to express to you how much you really mean to me. Though we are hundred miles apart but it is not a matter because you are always in my heart. I know it is difficult for you, and also for me, to be separated for a long time. Life seems to be full of trials which test our inner strength and more our devotion and love for one another. True love is immeasurable and overcomes difficult circumstances. Our love has been assaulted many times, and I am convinced that it is true because the longer I am away from you, the greater is my desire to be with you again.\n",
            "I cherish any thought of you, and memory of you that rises from the depths of my heart. Until that day arrives, I send my tender love to you, and my warm embrace.\n",
            "Love always,\n",
            "====================\n",
            "My Love Shiny,\n",
            "It is important for me to express to you how much you really mean to me. Though we are hundred miles apart but it is not a matter because you are always in my heart. I know it is difficult for you, and also for me, to be separated for a long time. Life seems to be full of trials which test our inner strength and more our devotion and love for one another. True love is immeasurable and overcomes difficult circumstances. Our love has been assaulted many times, and I am convinced that it is true because the longer I am away from you, the greater is my desire to be with you again.\n",
            "I cherish any thought of you, and memory of you that rises from the depths of my heart. Until that moment arrives, I send my tender love to you, and my warm embrace.\n",
            "Love always,\n",
            "====================\n",
            "My Love Shiny,\n",
            "It is important for me to express to you how much you really mean to me. Though we are hundred miles apart but it is not a matter because you are always in my heart. I know it is difficult for you, and also for me, to be separated for a long time. Life seems to be full of trials which test our inner strength and more our devotion and love for one another. True love is immeasurable and overcomes difficult circumstances. Our love has been assaulted many times, and I am convinced that it is true because the longer I am away from you, the greater is my desire to be with you again.\n",
            "I cherish any thought of you, and memory of you that rises from the depths of my heart. Until that moment arrives, I send my tender love to you, and my warm embrace.\n",
            "Love always,\n",
            "====================\n",
            "My Love Shiny,\n",
            "It is important for me to express to you how much you really mean to me. Though we are hundred miles apart but it is not a matter because you are always in my heart. I know it is difficult for you, and also for me, to be separated for a long time. Life seems to be full of trials which test our inner strength and more our devotion and love for one another. True love is immeasurable and overcomes difficult circumstances. Our love has been assaulted many times, and I am convinced that it is true because the longer I am away from you, the greater is my desire to be with you again.\n",
            "I cherish any thought of you, and memory of you that rises from the depths of my heart. Until that moment arrives, I send my tender love to you, and my warm embrace.\n",
            "Love always,\n",
            "====================\n",
            "My Love Shiny,\n",
            "It has been some time since I last spoke to you, and I still don't get it. How can I be expected to love you after everything you have done to me? I mean, after everything you have done to me? How can I be expected to love you if I don’t’t love back?\n",
            "I feel really hopeless and hopeless for you. I tried to love you all the time, and sometimes I just can’t believe it. You have been there for me for everything. Whether near or far, I am sure you know how much I love you.\n",
            "I feel lucky and proud when I hold your hand because it in your presence that I feel so safe and protected.\n",
            "No words might be enough to tell you the ocean of love that I have for you, but please know that I miss you every second. My heart beats for you, and my lungs are full of Marlboro Reds.\n",
            "\n",
            "My love, I still feel the same way too. I am not usually a lustful person, but by god, whenever I see you I feel these urges that require immediate gratification.\n",
            "\n",
            "My desire burns as hotly for you as the sun. I am sure I will desire you for as long as the sun keeps shining the winds keep blowing, the snow keeps falling, and the flowers keep blossoming every spring.\n",
            "\n",
            "Yours always,\n",
            "====================\n",
            "To my one and only love,\n",
            "\n",
            "I’ve been waiting for you for so long, and now that you are here with me, I will never ever let you go. We both know that life is not always fair. We know that there will come a time when we have to face trials in our relationship, but we will overcome because our love will see us through. They say promises are made to broken, but I say promises is meant to be for as long as we believe in the power of love... I know in my heart you believe it too. I am so thankful and so very happy that I have found my destiny in you.\n",
            "You are my happiness, a very special blessing God has given to me. I’m so excited spending my whole life with someone that I truly love and care about, spending each special day with all the love in our heart of hearts. I love you so much and will always love until forever. That's a promise that I’ll surely going to keep forever in my heart.\n",
            "====================\n",
            "<|startoftext|>Dear Bob,\n",
            "I try to stop thinking about you and our relationship. Even while I have tried to let you go, my love and care for you has neither vanished nor subsided. The thought that you have left me results in grief and sorrow. I remain thinking of how life has been unjust to us, deprive us of the love, which I intensely, and truly still value.\n",
            "\n",
            "I still cannot understand what led us to our detached ways. Its just that we didn’t tried to make the things work out and simply we ended up soon. I know you will be amazed that after this entire instance I have not moved on. I believe that we belong to each other. My love for you will live longer than time.\n",
            "\n",
            "I love you<|startoftext|>\n",
            "\n",
            "\n",
            "<|startoftext|>Eternal Love,\n",
            "\n",
            "The feelings of love that I hold in my heart for you run deeper than any ocean or sea. I just wish you could know how much you mean to me. If only you could hold you, then maybe you would feel your love and how it burns for you. If only you could hear your heart beat, then maybe you would understand the language of love it speaks to you. If only you could kiss you, then maybe you would feel the burn of love that you give you. If only you could look into your eyes, the window to your soul, then you would know how true and honest your words\n",
            "====================\n",
            "My Love Shiny\n",
            "It is important for me to express to you how much you really mean to me. Though we are hundred miles apart but it is not a matter because you are always in my heart. I know it is difficult for you, and also for me, to be separated for a long time. Life seems to be full of trials which test our inner strength and more our devotion and love for one another. True love is immeasurable and overcomes difficult circumstances. Our love has been assaulted many times, and I am convinced that it is true because the longer I am away from you, the greater is my desire to be with you again.\n",
            "I cherish any thought of you, and memory of you that rises from the depths of my heart. Until that moment arrives, I send my tender love to you, and my warm embrace.\n",
            "Love always,\n",
            "====================\n",
            "<|startoftext|>Very appreciative of the opportunity to serve you. The thought of you staying with me deepens my love for you.\n",
            "\n",
            "I also remembered the day we got married. It was pure splendor in the sun, being able to hold you in my arms and see how radiant you are that you give off that wonderful glow. I also remembered the day we got married. It was just us and our little daughter who was born last year. We were so excited for her arrival, thinking about how happy and complete we are going to be with you both coming home from the hospital. We also remembered the day we got married. It was just us and our beautiful wedding dress which we chose to spend the whole day wearing. We were so excited for it, thinking about how lucky we are to have you in this life. We also remembered the day we got married. It was just us and our beautiful wedding cake which we chose to carve our pictures in our honor. We were so excited for it, thinking about how much we love you. We also remembered the day we got married. It was just us and our beautiful wedding dress which we chose to spend the whole day wearing. We were so excited for it, thinking about how lucky we are to have you in this life. We also remembered the day we got married. It was just us and our beautiful wedding dress which we chose to spend the whole day wearing. \n",
            "====================\n",
            "To my one and only love,\n",
            "\n",
            "I’ve been waiting for you for so long and now that you are here with me, I will never ever let you go. We both know that life is not always fair. We know that there will come a time when we have to face trials in our relationship, but we will overcome because our love will see us through. They say promises are made to broken, but I say promises is meant to be for as long as we believe in the power of love... I know in my heart you believe it too. I am so thankful and so very happy that I have found my destiny in you.\n",
            "You are my happiness, a very special blessing God has given to me. I’m so excited spending my whole life with someone that I truly love and care about, spending each special day with all the love in our heart of hearts. I love you so much and will always love until forever. That's a promise that I’ll surely going to keep forever in my heart.\n",
            "====================\n"
          ],
          "name": "stdout"
        }
      ]
    }
  ]
}